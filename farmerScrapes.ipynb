{
 "cells": [
  {
   "cell_type": "code",
   "execution_count": 1,
   "id": "recreational-municipality",
   "metadata": {},
   "outputs": [],
   "source": [
    "#Authorisation\n",
    "import tweepy\n",
    "import pandas as pd\n",
    "consumer_key = \"LsfaPRG4QlMLXb8AbV4KJIEO1\"\n",
    "consumer_secret = \"1lFxlunaEiU2EfLaZN5onEXAzBVnYaRmgcpFEX4N8xZlt3jaOQ\"\n",
    "\n",
    "access_token = \"1361715928749142016-QzE9SG9Axmdo7yDGuklcFA9IgugPmp\"\n",
    "\n",
    "access_token_secret = \"hCq7jx4tF3vSfQKjm53LXNTPJrgvrxBg0p3ljKCd7gtrU\"\n",
    "\n",
    "authorization = tweepy.OAuthHandler(consumer_key, consumer_secret)\n",
    "\n",
    "authorization.set_access_token(access_token, access_token_secret)\n",
    "\n",
    "api = tweepy.API(authorization,wait_on_rate_limit=True)"
   ]
  },
  {
   "cell_type": "code",
   "execution_count": 42,
   "id": "visible-infrared",
   "metadata": {},
   "outputs": [],
   "source": [
    "#declarng all the metadata required\n",
    "author=[]\n",
    "contributors=[]\n",
    "coordinates=[] \n",
    "full_text=[]\n",
    "metadata=[]\n",
    "created_at=[]\n",
    "destroy=[]\n",
    "display_text_range=[]\n",
    "entities=[]\n",
    "favorite=[]\n",
    "favorite_count=[] \n",
    "favorited=[]\n",
    "geo=[]\n",
    "id_str=[]\n",
    "in_reply_to_screen_name=[]\n",
    "in_reply_to_status_id_str=[]\n",
    "in_reply_to_user_id_str=[]\n",
    "is_quote_status=[]\n",
    "lang=[] \n",
    "metadata=[]\n",
    "parse=[] \n",
    "parse_list=[] \n",
    "place=[] \n",
    "possibly_sensitive=[] \n",
    "retweet=[] \n",
    "retweet_count=[] \n",
    "retweeted=[] \n",
    "retweets=[] \n",
    "source=[] \n",
    "source_url=[] \n",
    "truncated=[] \n",
    "user=[]"
   ]
  },
  {
   "cell_type": "code",
   "execution_count": 43,
   "id": "vulnerable-monroe",
   "metadata": {},
   "outputs": [],
   "source": [
    "cursor= tweepy.Cursor(api.search, q='farmer protests India -filter:retweets',lang=\"en\", tweet_mode=\"extended\").items(5)"
   ]
  },
  {
   "cell_type": "code",
   "execution_count": 47,
   "metadata": {},
   "outputs": [],
   "source": [
    "for i in cursor:\n",
    "    author.append(i.author)\n",
    "    contributors.append(i.contributors)\n",
    "    coordinates.append(i.coordinates)\n",
    "    full_text.append(i.full_text)\n",
    "    metadata.append(i.metadata)\n",
    "    created_at.append(i.created_at)\n",
    "    destroy.append(i.destroy)\n",
    "    display_text_range.append(i.display_text_range)\n",
    "    entities.append(i.entities)\n",
    "    favorite.append(i.favorite)\n",
    "    favorite_count.append(i.favorite_count)\n",
    "    favorited.append(i.favorited)\n",
    "    geo.append(i.geo)\n",
    "    id_str.append(i.id_str)\n",
    "    in_reply_to_screen_name.append(i.in_reply_to_screen_name)\n",
    "    in_reply_to_status_id_str.append(i.in_reply_to_status_id_str)\n",
    "    in_reply_to_user_id_str.append(i.in_reply_to_user_id_str)\n",
    "    is_quote_status.append(i.is_quote_status)\n",
    "    lang.append(i.lang)\n",
    "    parse.append(i.parse)\n",
    "    parse_list.append(i.parse_list)\n",
    "    place.append(i.place)\n",
    "    possibly_sensitive.append(i.possibly_sensitive)\n",
    "    retweet.append(i.retweet)\n",
    "    retweet_count.append(i.retweet_count)\n",
    "    retweeted.append(i.retwprint(user)eeted)\n",
    "    retweets.append(i.retweets)\n",
    "    source.append(i.source)\n",
    "    source_url.append(i.source_url)\n",
    "    truncated.append(i.truncated)\n",
    "    user.append(i.user)\n",
    "    \n",
    "    \n",
    "\n",
    "\n"
   ]
  },
  {
   "cell_type": "code",
   "execution_count": 52,
   "id": "ongoing-abortion",
   "metadata": {
    "tags": []
   },
   "outputs": [
    {
     "output_type": "stream",
     "name": "stdout",
     "text": [
      "User(_api=<tweepy.api.API object at 0x7fd7971109d0>, _json={'id': 1256149232756699137, 'id_str': '1256149232756699137', 'name': 'Vidya', 'screen_name': 'ThinkVThink', 'location': '', 'description': '“Answers are about the past, and abilities are about the future.”\\n-Robert T. Kiyosaki.\\n\"Little knowledge is dangerous\"-Arnab Goswami', 'url': None, 'entities': {'description': {'urls': []}}, 'protected': False, 'followers_count': 0, 'friends_count': 179, 'listed_count': 0, 'created_at': 'Fri May 01 09:11:58 +0000 2020', 'favourites_count': 5102, 'utc_offset': None, 'time_zone': None, 'geo_enabled': False, 'verified': False, 'statuses_count': 2288, 'lang': None, 'contributors_enabled': False, 'is_translator': False, 'is_translation_enabled': False, 'profile_background_color': 'F5F8FA', 'profile_background_image_url': None, 'profile_background_image_url_https': None, 'profile_background_tile': False, 'profile_image_url': 'http://pbs.twimg.com/profile_images/1329863871058694146/og06p2YY_normal.jpg', 'profile_image_url_https': 'https://pbs.twimg.com/profile_images/1329863871058694146/og06p2YY_normal.jpg', 'profile_banner_url': 'https://pbs.twimg.com/profile_banners/1256149232756699137/1603787887', 'profile_link_color': '1DA1F2', 'profile_sidebar_border_color': 'C0DEED', 'profile_sidebar_fill_color': 'DDEEF6', 'profile_text_color': '333333', 'profile_use_background_image': True, 'has_extended_profile': False, 'default_profile': True, 'default_profile_image': False, 'following': False, 'follow_request_sent': False, 'notifications': False, 'translator_type': 'none'}, id=1256149232756699137, id_str='1256149232756699137', name='Vidya', screen_name='ThinkVThink', location='', description='“Answers are about the past, and abilities are about the future.”\\n-Robert T. Kiyosaki.\\n\"Little knowledge is dangerous\"-Arnab Goswami', url=None, entities={'description': {'urls': []}}, protected=False, followers_count=0, friends_count=179, listed_count=0, created_at=datetime.datetime(2020, 5, 1, 9, 11, 58), favourites_count=5102, utc_offset=None, time_zone=None, geo_enabled=False, verified=False, statuses_count=2288, lang=None, contributors_enabled=False, is_translator=False, is_translation_enabled=False, profile_background_color='F5F8FA', profile_background_image_url=None, profile_background_image_url_https=None, profile_background_tile=False, profile_image_url='http://pbs.twimg.com/profile_images/1329863871058694146/og06p2YY_normal.jpg', profile_image_url_https='https://pbs.twimg.com/profile_images/1329863871058694146/og06p2YY_normal.jpg', profile_banner_url='https://pbs.twimg.com/profile_banners/1256149232756699137/1603787887', profile_link_color='1DA1F2', profile_sidebar_border_color='C0DEED', profile_sidebar_fill_color='DDEEF6', profile_text_color='333333', profile_use_background_image=True, has_extended_profile=False, default_profile=True, default_profile_image=False, following=False, follow_request_sent=False, notifications=False, translator_type='none')\n \nUser(_api=<tweepy.api.API object at 0x7fd7971109d0>, _json={'id': 573918122, 'id_str': '573918122', 'name': 'Quartz', 'screen_name': 'qz', 'location': 'The World', 'description': 'Quartz: Global news and insights for a new generation of business leaders. \\n\\nTo contact us, email hi@qz.com.', 'url': 'https://t.co/gLfIrRbtbb', 'entities': {'url': {'urls': [{'url': 'https://t.co/gLfIrRbtbb', 'expanded_url': 'https://qz.com/', 'display_url': 'qz.com', 'indices': [0, 23]}]}, 'description': {'urls': []}}, 'protected': False, 'followers_count': 390271, 'friends_count': 228, 'listed_count': 9713, 'created_at': 'Mon May 07 19:53:20 +0000 2012', 'favourites_count': 2396, 'utc_offset': None, 'time_zone': None, 'geo_enabled': True, 'verified': True, 'statuses_count': 181365, 'lang': None, 'contributors_enabled': False, 'is_translator': False, 'is_translation_enabled': False, 'profile_background_color': '131516', 'profile_background_image_url': 'http://abs.twimg.com/images/themes/theme14/bg.gif', 'profile_background_image_url_https': 'https://abs.twimg.com/images/themes/theme14/bg.gif', 'profile_background_tile': False, 'profile_image_url': 'http://pbs.twimg.com/profile_images/1238278574152572929/HgSD467J_normal.jpg', 'profile_image_url_https': 'https://pbs.twimg.com/profile_images/1238278574152572929/HgSD467J_normal.jpg', 'profile_banner_url': 'https://pbs.twimg.com/profile_banners/573918122/1604942395', 'profile_link_color': '168DD9', 'profile_sidebar_border_color': 'C0DEED', 'profile_sidebar_fill_color': 'DDEEF6', 'profile_text_color': '333333', 'profile_use_background_image': False, 'has_extended_profile': False, 'default_profile': False, 'default_profile_image': False, 'following': False, 'follow_request_sent': False, 'notifications': False, 'translator_type': 'regular'}, id=573918122, id_str='573918122', name='Quartz', screen_name='qz', location='The World', description='Quartz: Global news and insights for a new generation of business leaders. \\n\\nTo contact us, email hi@qz.com.', url='https://t.co/gLfIrRbtbb', entities={'url': {'urls': [{'url': 'https://t.co/gLfIrRbtbb', 'expanded_url': 'https://qz.com/', 'display_url': 'qz.com', 'indices': [0, 23]}]}, 'description': {'urls': []}}, protected=False, followers_count=390271, friends_count=228, listed_count=9713, created_at=datetime.datetime(2012, 5, 7, 19, 53, 20), favourites_count=2396, utc_offset=None, time_zone=None, geo_enabled=True, verified=True, statuses_count=181365, lang=None, contributors_enabled=False, is_translator=False, is_translation_enabled=False, profile_background_color='131516', profile_background_image_url='http://abs.twimg.com/images/themes/theme14/bg.gif', profile_background_image_url_https='https://abs.twimg.com/images/themes/theme14/bg.gif', profile_background_tile=False, profile_image_url='http://pbs.twimg.com/profile_images/1238278574152572929/HgSD467J_normal.jpg', profile_image_url_https='https://pbs.twimg.com/profile_images/1238278574152572929/HgSD467J_normal.jpg', profile_banner_url='https://pbs.twimg.com/profile_banners/573918122/1604942395', profile_link_color='168DD9', profile_sidebar_border_color='C0DEED', profile_sidebar_fill_color='DDEEF6', profile_text_color='333333', profile_use_background_image=False, has_extended_profile=False, default_profile=False, default_profile_image=False, following=False, follow_request_sent=False, notifications=False, translator_type='regular')\n \nUser(_api=<tweepy.api.API object at 0x7fd7971109d0>, _json={'id': 2400320881, 'id_str': '2400320881', 'name': 'Quartz India', 'screen_name': 'qzindia', 'location': 'India', 'description': 'Quartz: Global news and insights for a new generation of business leaders.', 'url': 'http://t.co/tP0tDb7kGU', 'entities': {'url': {'urls': [{'url': 'http://t.co/tP0tDb7kGU', 'expanded_url': 'http://qz.com/india', 'display_url': 'qz.com/india', 'indices': [0, 22]}]}, 'description': {'urls': []}}, 'protected': False, 'followers_count': 31623, 'friends_count': 18, 'listed_count': 653, 'created_at': 'Thu Mar 20 19:00:40 +0000 2014', 'favourites_count': 205, 'utc_offset': None, 'time_zone': None, 'geo_enabled': False, 'verified': True, 'statuses_count': 46320, 'lang': None, 'contributors_enabled': False, 'is_translator': False, 'is_translation_enabled': False, 'profile_background_color': 'C0DEED', 'profile_background_image_url': 'http://abs.twimg.com/images/themes/theme1/bg.png', 'profile_background_image_url_https': 'https://abs.twimg.com/images/themes/theme1/bg.png', 'profile_background_tile': False, 'profile_image_url': 'http://pbs.twimg.com/profile_images/850196913420984320/cqtjuFwn_normal.jpg', 'profile_image_url_https': 'https://pbs.twimg.com/profile_images/850196913420984320/cqtjuFwn_normal.jpg', 'profile_banner_url': 'https://pbs.twimg.com/profile_banners/2400320881/1491537772', 'profile_link_color': '0D0F0F', 'profile_sidebar_border_color': 'C0DEED', 'profile_sidebar_fill_color': 'DDEEF6', 'profile_text_color': '333333', 'profile_use_background_image': True, 'has_extended_profile': False, 'default_profile': False, 'default_profile_image': False, 'following': False, 'follow_request_sent': False, 'notifications': False, 'translator_type': 'none'}, id=2400320881, id_str='2400320881', name='Quartz India', screen_name='qzindia', location='India', description='Quartz: Global news and insights for a new generation of business leaders.', url='http://t.co/tP0tDb7kGU', entities={'url': {'urls': [{'url': 'http://t.co/tP0tDb7kGU', 'expanded_url': 'http://qz.com/india', 'display_url': 'qz.com/india', 'indices': [0, 22]}]}, 'description': {'urls': []}}, protected=False, followers_count=31623, friends_count=18, listed_count=653, created_at=datetime.datetime(2014, 3, 20, 19, 0, 40), favourites_count=205, utc_offset=None, time_zone=None, geo_enabled=False, verified=True, statuses_count=46320, lang=None, contributors_enabled=False, is_translator=False, is_translation_enabled=False, profile_background_color='C0DEED', profile_background_image_url='http://abs.twimg.com/images/themes/theme1/bg.png', profile_background_image_url_https='https://abs.twimg.com/images/themes/theme1/bg.png', profile_background_tile=False, profile_image_url='http://pbs.twimg.com/profile_images/850196913420984320/cqtjuFwn_normal.jpg', profile_image_url_https='https://pbs.twimg.com/profile_images/850196913420984320/cqtjuFwn_normal.jpg', profile_banner_url='https://pbs.twimg.com/profile_banners/2400320881/1491537772', profile_link_color='0D0F0F', profile_sidebar_border_color='C0DEED', profile_sidebar_fill_color='DDEEF6', profile_text_color='333333', profile_use_background_image=True, has_extended_profile=False, default_profile=False, default_profile_image=False, following=False, follow_request_sent=False, notifications=False, translator_type='none')\n \nUser(_api=<tweepy.api.API object at 0x7fd7971109d0>, _json={'id': 767387784579612672, 'id_str': '767387784579612672', 'name': 'Singh Manjinder', 'screen_name': 'SinghManzz', 'location': '', 'description': '', 'url': None, 'entities': {'description': {'urls': []}}, 'protected': False, 'followers_count': 7, 'friends_count': 45, 'listed_count': 0, 'created_at': 'Sun Aug 21 15:48:00 +0000 2016', 'favourites_count': 185, 'utc_offset': None, 'time_zone': None, 'geo_enabled': False, 'verified': False, 'statuses_count': 1805, 'lang': None, 'contributors_enabled': False, 'is_translator': False, 'is_translation_enabled': False, 'profile_background_color': 'F5F8FA', 'profile_background_image_url': None, 'profile_background_image_url_https': None, 'profile_background_tile': False, 'profile_image_url': 'http://pbs.twimg.com/profile_images/1361246945944166406/tODnWDQ6_normal.jpg', 'profile_image_url_https': 'https://pbs.twimg.com/profile_images/1361246945944166406/tODnWDQ6_normal.jpg', 'profile_link_color': '1DA1F2', 'profile_sidebar_border_color': 'C0DEED', 'profile_sidebar_fill_color': 'DDEEF6', 'profile_text_color': '333333', 'profile_use_background_image': True, 'has_extended_profile': True, 'default_profile': True, 'default_profile_image': False, 'following': False, 'follow_request_sent': False, 'notifications': False, 'translator_type': 'none'}, id=767387784579612672, id_str='767387784579612672', name='Singh Manjinder', screen_name='SinghManzz', location='', description='', url=None, entities={'description': {'urls': []}}, protected=False, followers_count=7, friends_count=45, listed_count=0, created_at=datetime.datetime(2016, 8, 21, 15, 48), favourites_count=185, utc_offset=None, time_zone=None, geo_enabled=False, verified=False, statuses_count=1805, lang=None, contributors_enabled=False, is_translator=False, is_translation_enabled=False, profile_background_color='F5F8FA', profile_background_image_url=None, profile_background_image_url_https=None, profile_background_tile=False, profile_image_url='http://pbs.twimg.com/profile_images/1361246945944166406/tODnWDQ6_normal.jpg', profile_image_url_https='https://pbs.twimg.com/profile_images/1361246945944166406/tODnWDQ6_normal.jpg', profile_link_color='1DA1F2', profile_sidebar_border_color='C0DEED', profile_sidebar_fill_color='DDEEF6', profile_text_color='333333', profile_use_background_image=True, has_extended_profile=True, default_profile=True, default_profile_image=False, following=False, follow_request_sent=False, notifications=False, translator_type='none')\n \n"
     ]
    }
   ],
   "source": [
    "for i in user:\n",
    "    print(i)\n",
    "    print(\" \")\n",
    "\n"
   ]
  },
  {
   "cell_type": "code",
   "execution_count": null,
   "metadata": {},
   "outputs": [],
   "source": []
  }
 ],
 "metadata": {
  "kernelspec": {
   "display_name": "Python 3",
   "language": "python",
   "name": "python3"
  },
  "language_info": {
   "codemirror_mode": {
    "name": "ipython",
    "version": 3
   },
   "file_extension": ".py",
   "mimetype": "text/x-python",
   "name": "python",
   "nbconvert_exporter": "python",
   "pygments_lexer": "ipython3",
   "version": "3.8.5-final"
  }
 },
 "nbformat": 4,
 "nbformat_minor": 5
}