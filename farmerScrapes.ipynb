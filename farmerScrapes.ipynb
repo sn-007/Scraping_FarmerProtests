{
 "cells": [
  {
   "cell_type": "code",
   "execution_count": 1,
   "id": "recreational-municipality",
   "metadata": {},
   "outputs": [],
   "source": [
    "#Authorisation\n",
    "import tweepy\n",
    "import pandas as pd\n",
    "from cred.py import consumer_key,consumer_secret,access_token,access_token_secret\n",
    "\n",
    "authorization = tweepy.OAuthHandler(consumer_key, consumer_secret)\n",
    "\n",
    "authorization.set_access_token(access_token, access_token_secret)\n",
    "\n",
    "api = tweepy.API(authorization,wait_on_rate_limit=True)"
   ]
  },
  {
   "cell_type": "code",
   "execution_count": 63,
   "id": "visible-infrared",
   "metadata": {},
   "outputs": [],
   "source": [
    "#declarng all the metadata required\n",
    "author=[]\n",
    "contributors=[]\n",
    "coordinates=[] \n",
    "full_text=[]\n",
    "metadata=[]\n",
    "created_at=[]\n",
    "destroy=[]\n",
    "display_text_range=[]\n",
    "entities=[]\n",
    "favorite=[]\n",
    "favorite_count=[] \n",
    "favorited=[]\n",
    "geo=[]\n",
    "id_str=[]\n",
    "in_reply_to_screen_name=[]\n",
    "in_reply_to_status_id_str=[]\n",
    "in_reply_to_user_id_str=[]\n",
    "is_quote_status=[]\n",
    "lang=[] \n",
    "metadata=[]\n",
    "parse=[] \n",
    "parse_list=[] \n",
    "place=[] \n",
    "possibly_sensitive=[] \n",
    "retweet=[] \n",
    "retweet_count=[] \n",
    "retweeted=[] \n",
    "retweets=[] \n",
    "source=[] \n",
    "source_url=[] \n",
    "truncated=[] \n",
    "user=[]"
   ]
  },
  {
   "cell_type": "code",
   "execution_count": 64,
   "id": "vulnerable-monroe",
   "metadata": {},
   "outputs": [],
   "source": [
    "cursor= tweepy.Cursor(api.search, q='farmer protests India -filter:retweets',lang=\"en\", tweet_mode=\"extended\").items(5)"
   ]
  },
  {
   "cell_type": "code",
   "execution_count": 65,
   "metadata": {},
   "outputs": [],
   "source": [
    "for i in cursor:\n",
    "    author.append(i.author)\n",
    "    contributors.append(i.contributors)\n",
    "    coordinates.append(i.coordinates)\n",
    "    full_text.append(i.full_text)\n",
    "    metadata.append(i.metadata)\n",
    "    created_at.append(i.created_at)\n",
    "    destroy.append(i.destroy)\n",
    "    display_text_range.append(i.display_text_range)\n",
    "    entities.append(i.entities)\n",
    "    favorite.append(i.favorite)\n",
    "    favorite_count.append(i.favorite_count)\n",
    "    favorited.append(i.favorited)\n",
    "    geo.append(i.geo)\n",
    "    id_str.append(i.id_str)\n",
    "    in_reply_to_screen_name.append(i.in_reply_to_screen_name)\n",
    "    in_reply_to_status_id_str.append(i.in_reply_to_status_id_str)\n",
    "    in_reply_to_user_id_str.append(i.in_reply_to_user_id_str)\n",
    "    is_quote_status.append(i.is_quote_status)\n",
    "    lang.append(i.lang)\n",
    "    parse.append(i.parse)\n",
    "    parse_list.append(i.parse_list)\n",
    "    place.append(i.place)\n",
    "    try:\n",
    "        possibly_sensitive.append(i.possibly_sensitive)\n",
    "    except:\n",
    "        possibly_sensitive.append(\"NA\")\n",
    "\n",
    "\n",
    "    retweet.append(i.retweet)\n",
    "    retweet_count.append(i.retweet_count)\n",
    "    retweeted.append(i.retweeted)\n",
    "    retweets.append(i.retweets)\n",
    "    source.append(i.source)\n",
    "    source_url.append(i.source_url)\n",
    "    truncated.append(i.truncated)\n",
    "    user.append(i.user)\n",
    "    \n",
    "    \n",
    "\n",
    "\n"
   ]
  },
  {
   "cell_type": "code",
   "execution_count": 62,
   "id": "ongoing-abortion",
   "metadata": {
    "tags": []
   },
   "outputs": [
    {
     "output_type": "stream",
     "name": "stdout",
     "text": [
      "[User(_api=<tweepy.api.API object at 0x7fd7971109d0>, _json={'id': 773485929969414148, 'id_str': '773485929969414148', 'name': 'Sarang Pokhare', 'screen_name': 'sarang143u', 'location': 'Hyderabad, India', 'description': '📌#DigitalMarketing Professional\\u2063\\nPersonal Trainer 💪 Dancer 💃 Meditator 🧘\\u2063\\nEmail: pokharesarang@gmail.com\\n⭐Subscribe to my Youtube Channel Below 👇', 'url': 'https://t.co/OKkH3dZBc9', 'entities': {'url': {'urls': [{'url': 'https://t.co/OKkH3dZBc9', 'expanded_url': 'http://bit.ly/39TNzBq', 'display_url': 'bit.ly/39TNzBq', 'indices': [0, 23]}]}, 'description': {'urls': []}}, 'protected': False, 'followers_count': 383, 'friends_count': 1406, 'listed_count': 12, 'created_at': 'Wed Sep 07 11:39:51 +0000 2016', 'favourites_count': 2443, 'utc_offset': None, 'time_zone': None, 'geo_enabled': True, 'verified': False, 'statuses_count': 41605, 'lang': None, 'contributors_enabled': False, 'is_translator': False, 'is_translation_enabled': False, 'profile_background_color': 'F5F8FA', 'profile_background_image_url': None, 'profile_background_image_url_https': None, 'profile_background_tile': False, 'profile_image_url': 'http://pbs.twimg.com/profile_images/1338813120270090241/i0Yz-OU8_normal.jpg', 'profile_image_url_https': 'https://pbs.twimg.com/profile_images/1338813120270090241/i0Yz-OU8_normal.jpg', 'profile_banner_url': 'https://pbs.twimg.com/profile_banners/773485929969414148/1563953435', 'profile_link_color': '1DA1F2', 'profile_sidebar_border_color': 'C0DEED', 'profile_sidebar_fill_color': 'DDEEF6', 'profile_text_color': '333333', 'profile_use_background_image': True, 'has_extended_profile': True, 'default_profile': True, 'default_profile_image': False, 'following': False, 'follow_request_sent': False, 'notifications': False, 'translator_type': 'none'}, id=773485929969414148, id_str='773485929969414148', name='Sarang Pokhare', screen_name='sarang143u', location='Hyderabad, India', description='📌#DigitalMarketing Professional\\u2063\\nPersonal Trainer 💪 Dancer 💃 Meditator 🧘\\u2063\\nEmail: pokharesarang@gmail.com\\n⭐Subscribe to my Youtube Channel Below 👇', url='https://t.co/OKkH3dZBc9', entities={'url': {'urls': [{'url': 'https://t.co/OKkH3dZBc9', 'expanded_url': 'http://bit.ly/39TNzBq', 'display_url': 'bit.ly/39TNzBq', 'indices': [0, 23]}]}, 'description': {'urls': []}}, protected=False, followers_count=383, friends_count=1406, listed_count=12, created_at=datetime.datetime(2016, 9, 7, 11, 39, 51), favourites_count=2443, utc_offset=None, time_zone=None, geo_enabled=True, verified=False, statuses_count=41605, lang=None, contributors_enabled=False, is_translator=False, is_translation_enabled=False, profile_background_color='F5F8FA', profile_background_image_url=None, profile_background_image_url_https=None, profile_background_tile=False, profile_image_url='http://pbs.twimg.com/profile_images/1338813120270090241/i0Yz-OU8_normal.jpg', profile_image_url_https='https://pbs.twimg.com/profile_images/1338813120270090241/i0Yz-OU8_normal.jpg', profile_banner_url='https://pbs.twimg.com/profile_banners/773485929969414148/1563953435', profile_link_color='1DA1F2', profile_sidebar_border_color='C0DEED', profile_sidebar_fill_color='DDEEF6', profile_text_color='333333', profile_use_background_image=True, has_extended_profile=True, default_profile=True, default_profile_image=False, following=False, follow_request_sent=False, notifications=False, translator_type='none'), User(_api=<tweepy.api.API object at 0x7fd7971109d0>, _json={'id': 132428092, 'id_str': '132428092', 'name': 'Muzamil', 'screen_name': 'promuzi', 'location': 'Abu Dhabi, United Arab Emirates', 'description': '•Entrepreneur •Social Media Marketing Strategist •Blogger •Content Marketing Influencer, I help you set realistic online business goals & I help you achieve.', 'url': 'https://t.co/DYi6FfL8uu', 'entities': {'url': {'urls': [{'url': 'https://t.co/DYi6FfL8uu', 'expanded_url': 'https://www.muzamilfaroo.com', 'display_url': 'muzamilfaroo.com', 'indices': [0, 23]}]}, 'description': {'urls': []}}, 'protected': False, 'followers_count': 582, 'friends_count': 1535, 'listed_count': 17, 'created_at': 'Tue Apr 13 06:09:12 +0000 2010', 'favourites_count': 1162, 'utc_offset': None, 'time_zone': None, 'geo_enabled': True, 'verified': False, 'statuses_count': 73779, 'lang': None, 'contributors_enabled': False, 'is_translator': False, 'is_translation_enabled': False, 'profile_background_color': 'AAD3E6', 'profile_background_image_url': 'http://abs.twimg.com/images/themes/theme1/bg.png', 'profile_background_image_url_https': 'https://abs.twimg.com/images/themes/theme1/bg.png', 'profile_background_tile': False, 'profile_image_url': 'http://pbs.twimg.com/profile_images/1174905831910854658/hU4ITjMG_normal.jpg', 'profile_image_url_https': 'https://pbs.twimg.com/profile_images/1174905831910854658/hU4ITjMG_normal.jpg', 'profile_banner_url': 'https://pbs.twimg.com/profile_banners/132428092/1516739925', 'profile_link_color': '1B95E0', 'profile_sidebar_border_color': '000000', 'profile_sidebar_fill_color': 'DDEEF6', 'profile_text_color': '333333', 'profile_use_background_image': True, 'has_extended_profile': True, 'default_profile': False, 'default_profile_image': False, 'following': False, 'follow_request_sent': False, 'notifications': False, 'translator_type': 'none'}, id=132428092, id_str='132428092', name='Muzamil', screen_name='promuzi', location='Abu Dhabi, United Arab Emirates', description='•Entrepreneur •Social Media Marketing Strategist •Blogger •Content Marketing Influencer, I help you set realistic online business goals & I help you achieve.', url='https://t.co/DYi6FfL8uu', entities={'url': {'urls': [{'url': 'https://t.co/DYi6FfL8uu', 'expanded_url': 'https://www.muzamilfaroo.com', 'display_url': 'muzamilfaroo.com', 'indices': [0, 23]}]}, 'description': {'urls': []}}, protected=False, followers_count=582, friends_count=1535, listed_count=17, created_at=datetime.datetime(2010, 4, 13, 6, 9, 12), favourites_count=1162, utc_offset=None, time_zone=None, geo_enabled=True, verified=False, statuses_count=73779, lang=None, contributors_enabled=False, is_translator=False, is_translation_enabled=False, profile_background_color='AAD3E6', profile_background_image_url='http://abs.twimg.com/images/themes/theme1/bg.png', profile_background_image_url_https='https://abs.twimg.com/images/themes/theme1/bg.png', profile_background_tile=False, profile_image_url='http://pbs.twimg.com/profile_images/1174905831910854658/hU4ITjMG_normal.jpg', profile_image_url_https='https://pbs.twimg.com/profile_images/1174905831910854658/hU4ITjMG_normal.jpg', profile_banner_url='https://pbs.twimg.com/profile_banners/132428092/1516739925', profile_link_color='1B95E0', profile_sidebar_border_color='000000', profile_sidebar_fill_color='DDEEF6', profile_text_color='333333', profile_use_background_image=True, has_extended_profile=True, default_profile=False, default_profile_image=False, following=False, follow_request_sent=False, notifications=False, translator_type='none'), User(_api=<tweepy.api.API object at 0x7fd7971109d0>, _json={'id': 1256149232756699137, 'id_str': '1256149232756699137', 'name': 'Vidya', 'screen_name': 'ThinkVThink', 'location': '', 'description': '“Answers are about the past, and abilities are about the future.”\\n-Robert T. Kiyosaki.\\n\"Little knowledge is dangerous\"-Arnab Goswami', 'url': None, 'entities': {'description': {'urls': []}}, 'protected': False, 'followers_count': 0, 'friends_count': 179, 'listed_count': 0, 'created_at': 'Fri May 01 09:11:58 +0000 2020', 'favourites_count': 5107, 'utc_offset': None, 'time_zone': None, 'geo_enabled': False, 'verified': False, 'statuses_count': 2297, 'lang': None, 'contributors_enabled': False, 'is_translator': False, 'is_translation_enabled': False, 'profile_background_color': 'F5F8FA', 'profile_background_image_url': None, 'profile_background_image_url_https': None, 'profile_background_tile': False, 'profile_image_url': 'http://pbs.twimg.com/profile_images/1329863871058694146/og06p2YY_normal.jpg', 'profile_image_url_https': 'https://pbs.twimg.com/profile_images/1329863871058694146/og06p2YY_normal.jpg', 'profile_banner_url': 'https://pbs.twimg.com/profile_banners/1256149232756699137/1603787887', 'profile_link_color': '1DA1F2', 'profile_sidebar_border_color': 'C0DEED', 'profile_sidebar_fill_color': 'DDEEF6', 'profile_text_color': '333333', 'profile_use_background_image': True, 'has_extended_profile': False, 'default_profile': True, 'default_profile_image': False, 'following': False, 'follow_request_sent': False, 'notifications': False, 'translator_type': 'none'}, id=1256149232756699137, id_str='1256149232756699137', name='Vidya', screen_name='ThinkVThink', location='', description='“Answers are about the past, and abilities are about the future.”\\n-Robert T. Kiyosaki.\\n\"Little knowledge is dangerous\"-Arnab Goswami', url=None, entities={'description': {'urls': []}}, protected=False, followers_count=0, friends_count=179, listed_count=0, created_at=datetime.datetime(2020, 5, 1, 9, 11, 58), favourites_count=5107, utc_offset=None, time_zone=None, geo_enabled=False, verified=False, statuses_count=2297, lang=None, contributors_enabled=False, is_translator=False, is_translation_enabled=False, profile_background_color='F5F8FA', profile_background_image_url=None, profile_background_image_url_https=None, profile_background_tile=False, profile_image_url='http://pbs.twimg.com/profile_images/1329863871058694146/og06p2YY_normal.jpg', profile_image_url_https='https://pbs.twimg.com/profile_images/1329863871058694146/og06p2YY_normal.jpg', profile_banner_url='https://pbs.twimg.com/profile_banners/1256149232756699137/1603787887', profile_link_color='1DA1F2', profile_sidebar_border_color='C0DEED', profile_sidebar_fill_color='DDEEF6', profile_text_color='333333', profile_use_background_image=True, has_extended_profile=False, default_profile=True, default_profile_image=False, following=False, follow_request_sent=False, notifications=False, translator_type='none')]\n \n[User(_api=<tweepy.api.API object at 0x7fd7971109d0>, _json={'id': 773485929969414148, 'id_str': '773485929969414148', 'name': 'Sarang Pokhare', 'screen_name': 'sarang143u', 'location': 'Hyderabad, India', 'description': '📌#DigitalMarketing Professional\\u2063\\nPersonal Trainer 💪 Dancer 💃 Meditator 🧘\\u2063\\nEmail: pokharesarang@gmail.com\\n⭐Subscribe to my Youtube Channel Below 👇', 'url': 'https://t.co/OKkH3dZBc9', 'entities': {'url': {'urls': [{'url': 'https://t.co/OKkH3dZBc9', 'expanded_url': 'http://bit.ly/39TNzBq', 'display_url': 'bit.ly/39TNzBq', 'indices': [0, 23]}]}, 'description': {'urls': []}}, 'protected': False, 'followers_count': 383, 'friends_count': 1406, 'listed_count': 12, 'created_at': 'Wed Sep 07 11:39:51 +0000 2016', 'favourites_count': 2443, 'utc_offset': None, 'time_zone': None, 'geo_enabled': True, 'verified': False, 'statuses_count': 41605, 'lang': None, 'contributors_enabled': False, 'is_translator': False, 'is_translation_enabled': False, 'profile_background_color': 'F5F8FA', 'profile_background_image_url': None, 'profile_background_image_url_https': None, 'profile_background_tile': False, 'profile_image_url': 'http://pbs.twimg.com/profile_images/1338813120270090241/i0Yz-OU8_normal.jpg', 'profile_image_url_https': 'https://pbs.twimg.com/profile_images/1338813120270090241/i0Yz-OU8_normal.jpg', 'profile_banner_url': 'https://pbs.twimg.com/profile_banners/773485929969414148/1563953435', 'profile_link_color': '1DA1F2', 'profile_sidebar_border_color': 'C0DEED', 'profile_sidebar_fill_color': 'DDEEF6', 'profile_text_color': '333333', 'profile_use_background_image': True, 'has_extended_profile': True, 'default_profile': True, 'default_profile_image': False, 'following': False, 'follow_request_sent': False, 'notifications': False, 'translator_type': 'none'}, id=773485929969414148, id_str='773485929969414148', name='Sarang Pokhare', screen_name='sarang143u', location='Hyderabad, India', description='📌#DigitalMarketing Professional\\u2063\\nPersonal Trainer 💪 Dancer 💃 Meditator 🧘\\u2063\\nEmail: pokharesarang@gmail.com\\n⭐Subscribe to my Youtube Channel Below 👇', url='https://t.co/OKkH3dZBc9', entities={'url': {'urls': [{'url': 'https://t.co/OKkH3dZBc9', 'expanded_url': 'http://bit.ly/39TNzBq', 'display_url': 'bit.ly/39TNzBq', 'indices': [0, 23]}]}, 'description': {'urls': []}}, protected=False, followers_count=383, friends_count=1406, listed_count=12, created_at=datetime.datetime(2016, 9, 7, 11, 39, 51), favourites_count=2443, utc_offset=None, time_zone=None, geo_enabled=True, verified=False, statuses_count=41605, lang=None, contributors_enabled=False, is_translator=False, is_translation_enabled=False, profile_background_color='F5F8FA', profile_background_image_url=None, profile_background_image_url_https=None, profile_background_tile=False, profile_image_url='http://pbs.twimg.com/profile_images/1338813120270090241/i0Yz-OU8_normal.jpg', profile_image_url_https='https://pbs.twimg.com/profile_images/1338813120270090241/i0Yz-OU8_normal.jpg', profile_banner_url='https://pbs.twimg.com/profile_banners/773485929969414148/1563953435', profile_link_color='1DA1F2', profile_sidebar_border_color='C0DEED', profile_sidebar_fill_color='DDEEF6', profile_text_color='333333', profile_use_background_image=True, has_extended_profile=True, default_profile=True, default_profile_image=False, following=False, follow_request_sent=False, notifications=False, translator_type='none'), User(_api=<tweepy.api.API object at 0x7fd7971109d0>, _json={'id': 132428092, 'id_str': '132428092', 'name': 'Muzamil', 'screen_name': 'promuzi', 'location': 'Abu Dhabi, United Arab Emirates', 'description': '•Entrepreneur •Social Media Marketing Strategist •Blogger •Content Marketing Influencer, I help you set realistic online business goals & I help you achieve.', 'url': 'https://t.co/DYi6FfL8uu', 'entities': {'url': {'urls': [{'url': 'https://t.co/DYi6FfL8uu', 'expanded_url': 'https://www.muzamilfaroo.com', 'display_url': 'muzamilfaroo.com', 'indices': [0, 23]}]}, 'description': {'urls': []}}, 'protected': False, 'followers_count': 582, 'friends_count': 1535, 'listed_count': 17, 'created_at': 'Tue Apr 13 06:09:12 +0000 2010', 'favourites_count': 1162, 'utc_offset': None, 'time_zone': None, 'geo_enabled': True, 'verified': False, 'statuses_count': 73779, 'lang': None, 'contributors_enabled': False, 'is_translator': False, 'is_translation_enabled': False, 'profile_background_color': 'AAD3E6', 'profile_background_image_url': 'http://abs.twimg.com/images/themes/theme1/bg.png', 'profile_background_image_url_https': 'https://abs.twimg.com/images/themes/theme1/bg.png', 'profile_background_tile': False, 'profile_image_url': 'http://pbs.twimg.com/profile_images/1174905831910854658/hU4ITjMG_normal.jpg', 'profile_image_url_https': 'https://pbs.twimg.com/profile_images/1174905831910854658/hU4ITjMG_normal.jpg', 'profile_banner_url': 'https://pbs.twimg.com/profile_banners/132428092/1516739925', 'profile_link_color': '1B95E0', 'profile_sidebar_border_color': '000000', 'profile_sidebar_fill_color': 'DDEEF6', 'profile_text_color': '333333', 'profile_use_background_image': True, 'has_extended_profile': True, 'default_profile': False, 'default_profile_image': False, 'following': False, 'follow_request_sent': False, 'notifications': False, 'translator_type': 'none'}, id=132428092, id_str='132428092', name='Muzamil', screen_name='promuzi', location='Abu Dhabi, United Arab Emirates', description='•Entrepreneur •Social Media Marketing Strategist •Blogger •Content Marketing Influencer, I help you set realistic online business goals & I help you achieve.', url='https://t.co/DYi6FfL8uu', entities={'url': {'urls': [{'url': 'https://t.co/DYi6FfL8uu', 'expanded_url': 'https://www.muzamilfaroo.com', 'display_url': 'muzamilfaroo.com', 'indices': [0, 23]}]}, 'description': {'urls': []}}, protected=False, followers_count=582, friends_count=1535, listed_count=17, created_at=datetime.datetime(2010, 4, 13, 6, 9, 12), favourites_count=1162, utc_offset=None, time_zone=None, geo_enabled=True, verified=False, statuses_count=73779, lang=None, contributors_enabled=False, is_translator=False, is_translation_enabled=False, profile_background_color='AAD3E6', profile_background_image_url='http://abs.twimg.com/images/themes/theme1/bg.png', profile_background_image_url_https='https://abs.twimg.com/images/themes/theme1/bg.png', profile_background_tile=False, profile_image_url='http://pbs.twimg.com/profile_images/1174905831910854658/hU4ITjMG_normal.jpg', profile_image_url_https='https://pbs.twimg.com/profile_images/1174905831910854658/hU4ITjMG_normal.jpg', profile_banner_url='https://pbs.twimg.com/profile_banners/132428092/1516739925', profile_link_color='1B95E0', profile_sidebar_border_color='000000', profile_sidebar_fill_color='DDEEF6', profile_text_color='333333', profile_use_background_image=True, has_extended_profile=True, default_profile=False, default_profile_image=False, following=False, follow_request_sent=False, notifications=False, translator_type='none'), User(_api=<tweepy.api.API object at 0x7fd7971109d0>, _json={'id': 1256149232756699137, 'id_str': '1256149232756699137', 'name': 'Vidya', 'screen_name': 'ThinkVThink', 'location': '', 'description': '“Answers are about the past, and abilities are about the future.”\\n-Robert T. Kiyosaki.\\n\"Little knowledge is dangerous\"-Arnab Goswami', 'url': None, 'entities': {'description': {'urls': []}}, 'protected': False, 'followers_count': 0, 'friends_count': 179, 'listed_count': 0, 'created_at': 'Fri May 01 09:11:58 +0000 2020', 'favourites_count': 5107, 'utc_offset': None, 'time_zone': None, 'geo_enabled': False, 'verified': False, 'statuses_count': 2297, 'lang': None, 'contributors_enabled': False, 'is_translator': False, 'is_translation_enabled': False, 'profile_background_color': 'F5F8FA', 'profile_background_image_url': None, 'profile_background_image_url_https': None, 'profile_background_tile': False, 'profile_image_url': 'http://pbs.twimg.com/profile_images/1329863871058694146/og06p2YY_normal.jpg', 'profile_image_url_https': 'https://pbs.twimg.com/profile_images/1329863871058694146/og06p2YY_normal.jpg', 'profile_banner_url': 'https://pbs.twimg.com/profile_banners/1256149232756699137/1603787887', 'profile_link_color': '1DA1F2', 'profile_sidebar_border_color': 'C0DEED', 'profile_sidebar_fill_color': 'DDEEF6', 'profile_text_color': '333333', 'profile_use_background_image': True, 'has_extended_profile': False, 'default_profile': True, 'default_profile_image': False, 'following': False, 'follow_request_sent': False, 'notifications': False, 'translator_type': 'none'}, id=1256149232756699137, id_str='1256149232756699137', name='Vidya', screen_name='ThinkVThink', location='', description='“Answers are about the past, and abilities are about the future.”\\n-Robert T. Kiyosaki.\\n\"Little knowledge is dangerous\"-Arnab Goswami', url=None, entities={'description': {'urls': []}}, protected=False, followers_count=0, friends_count=179, listed_count=0, created_at=datetime.datetime(2020, 5, 1, 9, 11, 58), favourites_count=5107, utc_offset=None, time_zone=None, geo_enabled=False, verified=False, statuses_count=2297, lang=None, contributors_enabled=False, is_translator=False, is_translation_enabled=False, profile_background_color='F5F8FA', profile_background_image_url=None, profile_background_image_url_https=None, profile_background_tile=False, profile_image_url='http://pbs.twimg.com/profile_images/1329863871058694146/og06p2YY_normal.jpg', profile_image_url_https='https://pbs.twimg.com/profile_images/1329863871058694146/og06p2YY_normal.jpg', profile_banner_url='https://pbs.twimg.com/profile_banners/1256149232756699137/1603787887', profile_link_color='1DA1F2', profile_sidebar_border_color='C0DEED', profile_sidebar_fill_color='DDEEF6', profile_text_color='333333', profile_use_background_image=True, has_extended_profile=False, default_profile=True, default_profile_image=False, following=False, follow_request_sent=False, notifications=False, translator_type='none')]\n \n[User(_api=<tweepy.api.API object at 0x7fd7971109d0>, _json={'id': 773485929969414148, 'id_str': '773485929969414148', 'name': 'Sarang Pokhare', 'screen_name': 'sarang143u', 'location': 'Hyderabad, India', 'description': '📌#DigitalMarketing Professional\\u2063\\nPersonal Trainer 💪 Dancer 💃 Meditator 🧘\\u2063\\nEmail: pokharesarang@gmail.com\\n⭐Subscribe to my Youtube Channel Below 👇', 'url': 'https://t.co/OKkH3dZBc9', 'entities': {'url': {'urls': [{'url': 'https://t.co/OKkH3dZBc9', 'expanded_url': 'http://bit.ly/39TNzBq', 'display_url': 'bit.ly/39TNzBq', 'indices': [0, 23]}]}, 'description': {'urls': []}}, 'protected': False, 'followers_count': 383, 'friends_count': 1406, 'listed_count': 12, 'created_at': 'Wed Sep 07 11:39:51 +0000 2016', 'favourites_count': 2443, 'utc_offset': None, 'time_zone': None, 'geo_enabled': True, 'verified': False, 'statuses_count': 41605, 'lang': None, 'contributors_enabled': False, 'is_translator': False, 'is_translation_enabled': False, 'profile_background_color': 'F5F8FA', 'profile_background_image_url': None, 'profile_background_image_url_https': None, 'profile_background_tile': False, 'profile_image_url': 'http://pbs.twimg.com/profile_images/1338813120270090241/i0Yz-OU8_normal.jpg', 'profile_image_url_https': 'https://pbs.twimg.com/profile_images/1338813120270090241/i0Yz-OU8_normal.jpg', 'profile_banner_url': 'https://pbs.twimg.com/profile_banners/773485929969414148/1563953435', 'profile_link_color': '1DA1F2', 'profile_sidebar_border_color': 'C0DEED', 'profile_sidebar_fill_color': 'DDEEF6', 'profile_text_color': '333333', 'profile_use_background_image': True, 'has_extended_profile': True, 'default_profile': True, 'default_profile_image': False, 'following': False, 'follow_request_sent': False, 'notifications': False, 'translator_type': 'none'}, id=773485929969414148, id_str='773485929969414148', name='Sarang Pokhare', screen_name='sarang143u', location='Hyderabad, India', description='📌#DigitalMarketing Professional\\u2063\\nPersonal Trainer 💪 Dancer 💃 Meditator 🧘\\u2063\\nEmail: pokharesarang@gmail.com\\n⭐Subscribe to my Youtube Channel Below 👇', url='https://t.co/OKkH3dZBc9', entities={'url': {'urls': [{'url': 'https://t.co/OKkH3dZBc9', 'expanded_url': 'http://bit.ly/39TNzBq', 'display_url': 'bit.ly/39TNzBq', 'indices': [0, 23]}]}, 'description': {'urls': []}}, protected=False, followers_count=383, friends_count=1406, listed_count=12, created_at=datetime.datetime(2016, 9, 7, 11, 39, 51), favourites_count=2443, utc_offset=None, time_zone=None, geo_enabled=True, verified=False, statuses_count=41605, lang=None, contributors_enabled=False, is_translator=False, is_translation_enabled=False, profile_background_color='F5F8FA', profile_background_image_url=None, profile_background_image_url_https=None, profile_background_tile=False, profile_image_url='http://pbs.twimg.com/profile_images/1338813120270090241/i0Yz-OU8_normal.jpg', profile_image_url_https='https://pbs.twimg.com/profile_images/1338813120270090241/i0Yz-OU8_normal.jpg', profile_banner_url='https://pbs.twimg.com/profile_banners/773485929969414148/1563953435', profile_link_color='1DA1F2', profile_sidebar_border_color='C0DEED', profile_sidebar_fill_color='DDEEF6', profile_text_color='333333', profile_use_background_image=True, has_extended_profile=True, default_profile=True, default_profile_image=False, following=False, follow_request_sent=False, notifications=False, translator_type='none'), User(_api=<tweepy.api.API object at 0x7fd7971109d0>, _json={'id': 132428092, 'id_str': '132428092', 'name': 'Muzamil', 'screen_name': 'promuzi', 'location': 'Abu Dhabi, United Arab Emirates', 'description': '•Entrepreneur •Social Media Marketing Strategist •Blogger •Content Marketing Influencer, I help you set realistic online business goals & I help you achieve.', 'url': 'https://t.co/DYi6FfL8uu', 'entities': {'url': {'urls': [{'url': 'https://t.co/DYi6FfL8uu', 'expanded_url': 'https://www.muzamilfaroo.com', 'display_url': 'muzamilfaroo.com', 'indices': [0, 23]}]}, 'description': {'urls': []}}, 'protected': False, 'followers_count': 582, 'friends_count': 1535, 'listed_count': 17, 'created_at': 'Tue Apr 13 06:09:12 +0000 2010', 'favourites_count': 1162, 'utc_offset': None, 'time_zone': None, 'geo_enabled': True, 'verified': False, 'statuses_count': 73779, 'lang': None, 'contributors_enabled': False, 'is_translator': False, 'is_translation_enabled': False, 'profile_background_color': 'AAD3E6', 'profile_background_image_url': 'http://abs.twimg.com/images/themes/theme1/bg.png', 'profile_background_image_url_https': 'https://abs.twimg.com/images/themes/theme1/bg.png', 'profile_background_tile': False, 'profile_image_url': 'http://pbs.twimg.com/profile_images/1174905831910854658/hU4ITjMG_normal.jpg', 'profile_image_url_https': 'https://pbs.twimg.com/profile_images/1174905831910854658/hU4ITjMG_normal.jpg', 'profile_banner_url': 'https://pbs.twimg.com/profile_banners/132428092/1516739925', 'profile_link_color': '1B95E0', 'profile_sidebar_border_color': '000000', 'profile_sidebar_fill_color': 'DDEEF6', 'profile_text_color': '333333', 'profile_use_background_image': True, 'has_extended_profile': True, 'default_profile': False, 'default_profile_image': False, 'following': False, 'follow_request_sent': False, 'notifications': False, 'translator_type': 'none'}, id=132428092, id_str='132428092', name='Muzamil', screen_name='promuzi', location='Abu Dhabi, United Arab Emirates', description='•Entrepreneur •Social Media Marketing Strategist •Blogger •Content Marketing Influencer, I help you set realistic online business goals & I help you achieve.', url='https://t.co/DYi6FfL8uu', entities={'url': {'urls': [{'url': 'https://t.co/DYi6FfL8uu', 'expanded_url': 'https://www.muzamilfaroo.com', 'display_url': 'muzamilfaroo.com', 'indices': [0, 23]}]}, 'description': {'urls': []}}, protected=False, followers_count=582, friends_count=1535, listed_count=17, created_at=datetime.datetime(2010, 4, 13, 6, 9, 12), favourites_count=1162, utc_offset=None, time_zone=None, geo_enabled=True, verified=False, statuses_count=73779, lang=None, contributors_enabled=False, is_translator=False, is_translation_enabled=False, profile_background_color='AAD3E6', profile_background_image_url='http://abs.twimg.com/images/themes/theme1/bg.png', profile_background_image_url_https='https://abs.twimg.com/images/themes/theme1/bg.png', profile_background_tile=False, profile_image_url='http://pbs.twimg.com/profile_images/1174905831910854658/hU4ITjMG_normal.jpg', profile_image_url_https='https://pbs.twimg.com/profile_images/1174905831910854658/hU4ITjMG_normal.jpg', profile_banner_url='https://pbs.twimg.com/profile_banners/132428092/1516739925', profile_link_color='1B95E0', profile_sidebar_border_color='000000', profile_sidebar_fill_color='DDEEF6', profile_text_color='333333', profile_use_background_image=True, has_extended_profile=True, default_profile=False, default_profile_image=False, following=False, follow_request_sent=False, notifications=False, translator_type='none'), User(_api=<tweepy.api.API object at 0x7fd7971109d0>, _json={'id': 1256149232756699137, 'id_str': '1256149232756699137', 'name': 'Vidya', 'screen_name': 'ThinkVThink', 'location': '', 'description': '“Answers are about the past, and abilities are about the future.”\\n-Robert T. Kiyosaki.\\n\"Little knowledge is dangerous\"-Arnab Goswami', 'url': None, 'entities': {'description': {'urls': []}}, 'protected': False, 'followers_count': 0, 'friends_count': 179, 'listed_count': 0, 'created_at': 'Fri May 01 09:11:58 +0000 2020', 'favourites_count': 5107, 'utc_offset': None, 'time_zone': None, 'geo_enabled': False, 'verified': False, 'statuses_count': 2297, 'lang': None, 'contributors_enabled': False, 'is_translator': False, 'is_translation_enabled': False, 'profile_background_color': 'F5F8FA', 'profile_background_image_url': None, 'profile_background_image_url_https': None, 'profile_background_tile': False, 'profile_image_url': 'http://pbs.twimg.com/profile_images/1329863871058694146/og06p2YY_normal.jpg', 'profile_image_url_https': 'https://pbs.twimg.com/profile_images/1329863871058694146/og06p2YY_normal.jpg', 'profile_banner_url': 'https://pbs.twimg.com/profile_banners/1256149232756699137/1603787887', 'profile_link_color': '1DA1F2', 'profile_sidebar_border_color': 'C0DEED', 'profile_sidebar_fill_color': 'DDEEF6', 'profile_text_color': '333333', 'profile_use_background_image': True, 'has_extended_profile': False, 'default_profile': True, 'default_profile_image': False, 'following': False, 'follow_request_sent': False, 'notifications': False, 'translator_type': 'none'}, id=1256149232756699137, id_str='1256149232756699137', name='Vidya', screen_name='ThinkVThink', location='', description='“Answers are about the past, and abilities are about the future.”\\n-Robert T. Kiyosaki.\\n\"Little knowledge is dangerous\"-Arnab Goswami', url=None, entities={'description': {'urls': []}}, protected=False, followers_count=0, friends_count=179, listed_count=0, created_at=datetime.datetime(2020, 5, 1, 9, 11, 58), favourites_count=5107, utc_offset=None, time_zone=None, geo_enabled=False, verified=False, statuses_count=2297, lang=None, contributors_enabled=False, is_translator=False, is_translation_enabled=False, profile_background_color='F5F8FA', profile_background_image_url=None, profile_background_image_url_https=None, profile_background_tile=False, profile_image_url='http://pbs.twimg.com/profile_images/1329863871058694146/og06p2YY_normal.jpg', profile_image_url_https='https://pbs.twimg.com/profile_images/1329863871058694146/og06p2YY_normal.jpg', profile_banner_url='https://pbs.twimg.com/profile_banners/1256149232756699137/1603787887', profile_link_color='1DA1F2', profile_sidebar_border_color='C0DEED', profile_sidebar_fill_color='DDEEF6', profile_text_color='333333', profile_use_background_image=True, has_extended_profile=False, default_profile=True, default_profile_image=False, following=False, follow_request_sent=False, notifications=False, translator_type='none')]\n \n"
     ]
    }
   ],
   "source": [
    "for i in user:\n",
    "    print(user)\n",
    "    print(\" \")\n",
    "\n"
   ]
  },
  {
   "cell_type": "code",
   "execution_count": null,
   "metadata": {},
   "outputs": [],
   "source": []
  }
 ],
 "metadata": {
  "kernelspec": {
   "display_name": "Python 3",
   "language": "python",
   "name": "python3"
  },
  "language_info": {
   "codemirror_mode": {
    "name": "ipython",
    "version": 3
   },
   "file_extension": ".py",
   "mimetype": "text/x-python",
   "name": "python",
   "nbconvert_exporter": "python",
   "pygments_lexer": "ipython3",
   "version": "3.8.5-final"
  }
 },
 "nbformat": 4,
 "nbformat_minor": 5
}