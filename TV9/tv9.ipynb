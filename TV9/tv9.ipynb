
from selenium import webdriver
from selenium.webdriver.chrome.options import Options
import requests
from bs4 import BeautifulSoup
date=[]
links=[]
title=[]
category=[]
para=[]
qq=0
for kk in range(1,2):
    a='https://tv9telugu.com/tag/farmers-protest'
    b=requests.get(a)
    c=BeautifulSoup(b.content,'lxml')
    for k in c.find_all('div',{'class':'col2 ComListing'}):
        for j in k.find_all('h3',{'class':'h3'}):
            for i in j.find_all('a',title=True):
                title.append(i['title'])
            for i in j.find_all('a',href=True):
                links.append(i['href'])
    for k in c.find_all('div',{'class':'col2 ComListing'}):
        for j in k.find_all('div',{'class':'catTime flex'}):
            for i in j.find_all('a',title=True):
                category.append(i['title'])
            for i in j.find_all('span'):
                date.append(i.text)
    for j in c.find_all('div',{'class':'col2 ComListing'}):
        for i in j.find_all('p'):
            para.append(i.text)
for kk in range(2,4):
    a='https://tv9telugu.com/tag/farmers-protest/page'
    a2=str(kk)
    a+=a2
    b=requests.get(a)
    c=BeautifulSoup(b.content,'lxml')
    for k in c.find_all('div',{'class':'col2 ComListing'}):
        for j in k.find_all('h3',{'class':'h3'}):
            for i in j.find_all('a',title=True):
                title.append(i['title'])
            for i in j.find_all('a',href=True):
                links.append(i['href'])
    for k in c.find_all('div',{'class':'col2 ComListing'}):
        for j in k.find_all('div',{'class':'catTime flex'}):
            for i in j.find_all('a',title=True):
                category.append(i['title'])
            for i in j.find_all('span'):
                date.append(i.text)
    for j in c.find_all('div',{'class':'col2 ComListing'}):
        for i in j.find_all('p'):
            para.append(i.text)
for kk in range(4,33):
    a='https://tv9telugu.com/tag/farmers-protest//page'
    a2=str(kk)
    a+=a2
    b=requests.get(a)
    c=BeautifulSoup(b.content,'lxml')
    for k in c.find_all('div',{'class':'col2 ComListing'}):
        for j in k.find_all('h3',{'class':'h3'}):
            for i in j.find_all('a',title=True):
                title.append(i['title'])
            for i in j.find_all('a',href=True):
                links.append(i['href'])
    for k in c.find_all('div',{'class':'col2 ComListing'}):
        for j in k.find_all('div',{'class':'catTime flex'}):
            for i in j.find_all('a',title=True):
                category.append(i['title'])
            for i in j.find_all('span'):
                date.append(i.text)
    for j in c.find_all('div',{'class':'col2 ComListing'}):
        for i in j.find_all('p'):
            para.append(i.text)


for i in range(310):
    print(i+1)
    print("Date:"+date[i])
    print("Category:"+category[i])
    print("Headline:"+title[i])
    print("Text:"+para[i])
    print("Link:"+links[i])
    print("-------(**)-------")
    print("")
